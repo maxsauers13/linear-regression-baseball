{
  "nbformat": 4,
  "nbformat_minor": 0,
  "metadata": {
    "colab": {
      "name": "DMAP SP21 Final Project",
      "provenance": [],
      "collapsed_sections": [],
      "include_colab_link": true
    },
    "kernelspec": {
      "name": "python3",
      "display_name": "Python 3"
    }
  },
  "cells": [
    {
      "cell_type": "markdown",
      "metadata": {
        "id": "view-in-github",
        "colab_type": "text"
      },
      "source": [
        "<a href=\"https://colab.research.google.com/github/maxsauers13/linear-regression-baseball/blob/main/DMAP_SP21_Final_Project.ipynb\" target=\"_parent\"><img src=\"https://colab.research.google.com/assets/colab-badge.svg\" alt=\"Open In Colab\"/></a>"
      ]
    },
    {
      "cell_type": "code",
      "metadata": {
        "id": "MPrJ8HLyC-Cd"
      },
      "source": [
        "# Keep this code cell here\n",
        "# Project title will be used by the reviewer\n",
        "PROJECT_TITLE = \"Analysis of Runs Scored in a Baseball Game\"\n",
        "NOTEBOOK_ID   = \"https://colab.research.google.com/drive/19mW0Odcz5VPLRNczVzRA5sSidRnhgDnq?authuser=1\"\n",
        "VERSION = \"SP21\""
      ],
      "execution_count": null,
      "outputs": []
    },
    {
      "cell_type": "markdown",
      "metadata": {
        "id": "3pflCTkzNvap"
      },
      "source": [
        "# Introduction\n",
        "\n",
        "Since the MLB season is in full swing, I've decided that I want to answer a long time question of mine about the game of baseball through statistics. What are the greatest factors when determining the number of runs that will be scored in a game of baseball? To solve this problem I want to look at many possible components. These include:\n",
        "\n",
        "  1. Weather\n",
        "    1. Wind speed\n",
        "    2. Temperature\n",
        "  2. Pitching\n",
        "    1. Earned Run Average (ERA)\n",
        "      - This is the average number of runs a pitcher gives up for every 9 innings pitched.\n",
        "  3. Batting\n",
        "    1. On Base Percentage (OBP)\n",
        "      - This is the percentage that a player gets on base for each at bat, for an entire team.\n",
        "\n",
        "I will collect data on these topics and explore how they contribute to the number of runs scored in a given baseball game. I will find which factors contribute the most and build a model accordingly. Lastly, I can test this model against statistics from other games and compare how accurate my model turned out to be.\n",
        "\n",
        "<!-- \n",
        "\n",
        "   VIDEO INSTRUCTIONS (and data hosting)\n",
        "\n",
        "1. upload to google drive, get the share URL\n",
        "https://drive.google.com/file/d/1yGvY5a0KAqnOKf5kLh5EbbbRY4_LonAX\n",
        "\n",
        "2. convert to export URL:\n",
        "http://drive.google.com/uc?export=download&id=1yGvY5a0KAqnOKf5kLh5EbbbRY4_LonAX\n",
        "\n",
        "3. OR use some other service to host your video:\n",
        "https://storage.googleapis.com/uicourse/videos/dmap/Exact%20Instructions%20Challenge%20-%20THIS%20is%20why%20my%20kids%20hate%20me.%20%20Josh%20Darnit.mp4\n",
        "\n",
        "replace the src=\"YOUR VIDEO URL\" in the <source> tag in the next cell below\n",
        "-->"
      ]
    },
    {
      "cell_type": "code",
      "metadata": {
        "id": "JQo5zhkeEuXL",
        "colab": {
          "base_uri": "https://localhost:8080/",
          "height": 387
        },
        "outputId": "84bbac28-5943-4ce2-b79b-f4f78205725d"
      },
      "source": [
        "%%html\n",
        "<!-- this should be the ONLY html cell in the notebook: use markdown -->\n",
        "<div style=\"font-size:36px; max-width:800px; font-family:Times, serif;\">\n",
        " Analysis of Runs Scored in a Baseball Game\n",
        "<!--<video width=\"600\" controls>\n",
        "  <source src=\"https://www.youtube.com/embed/AkkLzJGXlXc\"\n",
        "  type=\"video/mp4\">\n",
        "</video>-->\n",
        "<iframe width=\"560\" height=\"315\" src=\"https://www.youtube.com/embed/AkkLzJGXlXc\" title=\"YouTube video player\" frameborder=\"0\" allow=\"accelerometer; autoplay; clipboard-write; encrypted-media; gyroscope; picture-in-picture\" allowfullscreen></iframe>\n",
        "</div>"
      ],
      "execution_count": null,
      "outputs": [
        {
          "output_type": "display_data",
          "data": {
            "text/html": [
              "<!-- this should be the ONLY html cell in the notebook: use markdown -->\n",
              "<div style=\"font-size:36px; max-width:800px; font-family:Times, serif;\">\n",
              " Analysis of Runs Scored in a Baseball Game\n",
              "<!--<video width=\"600\" controls>\n",
              "  <source src=\"https://www.youtube.com/embed/AkkLzJGXlXc\"\n",
              "  type=\"video/mp4\">\n",
              "</video>-->\n",
              "<iframe width=\"560\" height=\"315\" src=\"https://www.youtube.com/embed/AkkLzJGXlXc\" title=\"YouTube video player\" frameborder=\"0\" allow=\"accelerometer; autoplay; clipboard-write; encrypted-media; gyroscope; picture-in-picture\" allowfullscreen></iframe>\n",
              "</div>"
            ],
            "text/plain": [
              "<IPython.core.display.HTML object>"
            ]
          },
          "metadata": {
            "tags": []
          }
        }
      ]
    },
    {
      "cell_type": "markdown",
      "metadata": {
        "id": "GJvmagnZDPjW"
      },
      "source": [
        "# Data Acquisition, Selection, Cleaning\n",
        "*Data description shown in the \"Data Preparation\" Section below.*"
      ]
    },
    {
      "cell_type": "code",
      "metadata": {
        "id": "4ZK0-f54UAtE"
      },
      "source": [
        "# add your imports here for your entire project\n",
        "import pandas as pd\n",
        "import numpy as np\n",
        "import requests"
      ],
      "execution_count": null,
      "outputs": []
    },
    {
      "cell_type": "code",
      "metadata": {
        "id": "YJjLqlsZPkSD"
      },
      "source": [
        "# downloading my data\n",
        "\n",
        "def install_data():\n",
        "  ID = '1HhBn-Ir3M4sRYBiebGHxVtIHWbLK3VfZ'\n",
        "  d_url = \"https://drive.google.com/uc?export=download&id={:s}\".format(ID)\n",
        "\n",
        "  import requests\n",
        "  raw = requests.get(d_url).content\n",
        "  with open('data-2021.csv', 'wb') as fd:\n",
        "    fd.write(raw)\n",
        "\n",
        "  ID = '1EWhiGKImrr2HQREVi6UzZDpaJg8wZEsZ'\n",
        "  d_url = \"https://drive.google.com/uc?export=download&id={:s}\".format(ID)\n",
        "\n",
        "  raw = requests.get(d_url).content\n",
        "  with open('data-2020.csv', 'wb') as fd:\n",
        "    fd.write(raw)\n",
        "  \n",
        "  # transferred to a different function\n",
        "\n",
        "  # import pandas as pd\n",
        "  # df = pd.read_csv('data-2020.csv')\n",
        "  # return df\n",
        "\n",
        "def get_training_df():\n",
        "  import pandas as pd\n",
        "  df = pd.read_csv('data-2020.csv')\n",
        "  return df\n",
        "\n",
        "def get_testing_df():\n",
        "  import pandas as pd\n",
        "  df = pd.read_csv('data-2021.csv')\n",
        "  return df\n",
        "\n",
        "install_data()"
      ],
      "execution_count": null,
      "outputs": []
    },
    {
      "cell_type": "markdown",
      "metadata": {
        "id": "M7-_dM0-G3kc"
      },
      "source": [
        "# Data Preparation\n",
        "\n",
        "The data used in this project was mainly prepared before downloading it into this notebook. \n",
        "\n",
        "Data was taken from three JSON files. They include game statistics, player statistics, and team statistics. Here are instances of their data below:\n"
      ]
    },
    {
      "cell_type": "code",
      "metadata": {
        "id": "mvqKPsZPHlW7"
      },
      "source": [
        "# Game Instance:\n",
        "\n",
        "# '{\"GameID\":59622,\"Season\":2020,\"SeasonType\":1,\"Status\":\"Final\",\"Day\":\"2020-07-23T00:00:00\",\"DateTime\":\"2020-07-23T19:00:00\",\"AwayTeam\":\"NYY\",\"HomeTeam\":\"WSH\",\n",
        "# \"AwayTeamID\":29,\"HomeTeamID\":35,\"RescheduledGameID\":null,\"StadiumID\":53,\"Channel\":\"ESPN\",\"Inning\":6,\"InningHalf\":\"T\",\"AwayTeamRuns\":9,\"HomeTeamRuns\":2,\n",
        "# \"AwayTeamHits\":14,\"HomeTeamHits\":2,\"AwayTeamErrors\":0,\"HomeTeamErrors\":0,\"WinningPitcherID\":10000970,\"LosingPitcherID\":10000426,\"SavingPitcherID\":null,\"Attendance\":null,\n",
        "# \"AwayTeamProbablePitcherID\":10000970,\"HomeTeamProbablePitcherID\":10000426,\"Outs\":null,\"Balls\":null,\"Strikes\":null,\"CurrentPitcherID\":null,\"CurrentHitterID\":null,\n",
        "# \"AwayTeamStartingPitcherID\":10000970,\"HomeTeamStartingPitcherID\":10000426,\"CurrentPitchingTeamID\":null,\"CurrentHittingTeamID\":null,\"PointSpread\":3.4,\"OverUnder\":12.0,\n",
        "# \"AwayTeamMoneyLine\":-252,\"HomeTeamMoneyLine\":219,\"ForecastTempLow\":112,\"ForecastTempHigh\":117,\"ForecastDescription\":\"Scrambled\",\"ForecastWindChill\":112,\n",
        "# \"ForecastWindSpeed\":9,\"ForecastWindDirection\":386,\"RescheduledFromGameID\":null,\"RunnerOnFirst\":null,\"RunnerOnSecond\":null,\"RunnerOnThird\":null,\n",
        "# \"AwayTeamStartingPitcher\":\"Scrambled\",\"HomeTeamStartingPitcher\":\"Scrambled\",\"CurrentPitcher\":\"Scrambled\",\"CurrentHitter\":\"Scrambled\",\"WinningPitcher\":\"Scrambled\",\n",
        "# \"LosingPitcher\":\"Scrambled\",\"SavingPitcher\":\"Scrambled\",\"DueUpHitterID1\":null,\"DueUpHitterID2\":null,\"DueUpHitterID3\":null,\"GlobalGameID\":10059622,\n",
        "# \"GlobalAwayTeamID\":10000029,\"GlobalHomeTeamID\":10000035,\"PointSpreadAwayTeamMoneyLine\":153,\"PointSpreadHomeTeamMoneyLine\":-184,\"LastPlay\":\"Scrambled\",\n",
        "# \"IsClosed\":true,\"Updated\":\"2020-10-17T11:13:05\",\"GameEndDateTime\":\"2020-07-23T23:08:38\",\"HomeRotationNumber\":1353,\"AwayRotationNumber\":1352,\"NeutralVenue\":false,\n",
        "# \"InningDescription\":null,\"OverPayout\":null,\"UnderPayout\":null,\"Innings\":[]}'\n",
        "\n",
        "# Player Instance:\n",
        "\n",
        "# '{\"StatID\":2990653,\"TeamID\":3,\"PlayerID\":10000001,\"SeasonType\":1,\"Season\":2020,\"Name\":\"Chase Anderson\",\"Team\":\"TOR\",\"Position\":\"SP\",\"PositionCategory\":\"P\",\n",
        "# \"Started\":7,\"BattingOrder\":null,\"GlobalTeamID\":10000003,\"AverageDraftPosition\":null,\"AuctionValue\":null,\"Updated\":\"2020-12-31T03:20:53\",\"Games\":10,\"FantasyPoints\":5.8,\n",
        "# \"AtBats\":0.0,\"Runs\":0.0,\"Hits\":0.0,\"Singles\":0.0,\"Doubles\":0.0,\"Triples\":0.0,\"HomeRuns\":0.0,\"RunsBattedIn\":0.0,\"BattingAverage\":0.0,\"Outs\":0.0,\"Strikeouts\":0.0,\n",
        "# \"Walks\":0.0,\"HitByPitch\":0.0,\"Sacrifices\":0.0,\"SacrificeFlies\":0.0,\"GroundIntoDoublePlay\":0.0,\"StolenBases\":0.0,\"CaughtStealing\":0.0,\"PitchesSeen\":0.0,\n",
        "# \"OnBasePercentage\":0.0,\"SluggingPercentage\":0.0,\"OnBasePlusSlugging\":0.0,\"Errors\":0.0,\"Wins\":0.5,\"Losses\":1.1,\"Saves\":0.0,\"InningsPitchedDecimal\":24.8,\n",
        "# \"TotalOutsPitched\":74.4,\"InningsPitchedFull\":24.3,\"InningsPitchedOuts\":1.1,\"EarnedRunAverage\":3.9,\"PitchingHits\":33.2,\"PitchingRuns\":21.4,\"PitchingEarnedRuns\":19.9,\n",
        "# \"PitchingWalks\":5.4,\"PitchingStrikeouts\":28.0,\"PitchingHomeRuns\":6.0,\"PitchesThrown\":480.5,\"PitchesThrownStrikes\":294.1,\"WalksHitsPerInningsPitched\":0.9,\n",
        "# \"PitchingBattingAverageAgainst\":0.2,\"GrandSlams\":0.0,\"FantasyPointsFanDuel\":103.2,\"FantasyPointsDraftKings\":50.2,\"FantasyPointsYahoo\":56.5,\"PlateAppearances\":0.0,\n",
        "# \"TotalBases\":0.0,\"FlyOuts\":0.0,\"GroundOuts\":0.0,\"LineOuts\":0.0,\"PopOuts\":0.0,\"IntentionalWalks\":0.0,\"ReachedOnError\":0.0,\"BallsInPlay\":0.0,\n",
        "# \"BattingAverageOnBallsInPlay\":0.0,\"WeightedOnBasePercentage\":0.0,\"PitchingSingles\":17.0,\"PitchingDoubles\":6.0,\"PitchingTriples\":0.0,\"PitchingGrandSlams\":0.0,\n",
        "# \"PitchingHitByPitch\":0.5,\"PitchingSacrifices\":0.0,\"PitchingSacrificeFlies\":0.0,\"PitchingGroundIntoDoublePlay\":1.1,\"PitchingCompleteGames\":0.0,\"PitchingShutOuts\":0.0,\n",
        "# \"PitchingNoHitters\":0.0,\"PitchingPerfectGames\":0.0,\"PitchingPlateAppearances\":113.5,\"PitchingTotalBases\":65.6,\"PitchingFlyOuts\":6.5,\"PitchingGroundOuts\":18.4,\n",
        "# \"PitchingLineOuts\":4.3,\"PitchingPopOuts\":4.3,\"PitchingIntentionalWalks\":0.0,\"PitchingReachedOnError\":0.0,\"PitchingCatchersInterference\":0.0,\"PitchingBallsInPlay\":69.3,\n",
        "# \"PitchingOnBasePercentage\":0.2,\"PitchingSluggingPercentage\":0.3,\"PitchingOnBasePlusSlugging\":0.5,\"PitchingStrikeoutsPerNineInnings\":5.5,\"PitchingWalksPerNineInnings\":1.5,\n",
        "# \"PitchingBattingAverageOnBallsInPlay\":0.2,\"PitchingWeightedOnBasePercentage\":0.2,\"DoublePlays\":0.0,\"PitchingDoublePlays\":1.1,\"BattingOrderConfirmed\":true,\n",
        "# \"IsolatedPower\":0.0,\"FieldingIndependentPitching\":3.3,\"PitchingQualityStarts\":0.0,\"PitchingInningStarted\":null,\"LeftOnBase\":0.0,\"PitchingHolds\":0.0,\n",
        "# \"PitchingBlownSaves\":0.0,\"SubstituteBattingOrder\":null,\"SubstituteBattingOrderSequence\":null,\"FantasyPointsFantasyDraft\":50.2}'\n",
        "\n",
        "# Team Instance:\n",
        "\n",
        "# {\"StatID\":2934732,\"TeamID\":14,\"SeasonType\":1,\"Season\":2020,\"Name\":\"Arizona Diamondbacks\",\"Team\":\"ARI\",\"GlobalTeamID\":10000014,\"Updated\":\"2020-12-31T03:22:17\",\n",
        "# \"Games\":60,\"FantasyPoints\":784.0,\"AtBats\":812.8,\"Runs\":109.5,\"Hits\":196.2,\"Singles\":126.6,\"Doubles\":41.1,\"Triples\":2.0,\"HomeRuns\":23.6,\"RunsBattedIn\":103.8,\n",
        "# \"BattingAverage\":0.0,\"Outs\":616.6,\"Strikeouts\":187.6,\"Walks\":73.7,\"HitByPitch\":14.7,\"Sacrifices\":4.0,\"SacrificeFlies\":3.8,\"GroundIntoDoublePlay\":14.7,\"StolenBases\":3.8,\n",
        "# \"CaughtStealing\":1.2,\"PitchesSeen\":3533.2,\"OnBasePercentage\":0.1,\"SluggingPercentage\":0.1,\"OnBasePlusSlugging\":0.1,\"Errors\":14.2,\"Wins\":10.2,\"Losses\":14.2,\"Saves\":2.2,\n",
        "# \"InningsPitchedDecimal\":211.0,\"TotalOutsPitched\":632.9,\"InningsPitchedFull\":210.8,\"InningsPitchedOuts\":0.2,\"EarnedRunAverage\":0.8,\"PitchingHits\":205.9,\"PitchingRuns\":120.1,\n",
        "# \"PitchingEarnedRuns\":113.6,\"PitchingWalks\":95.6,\"PitchingStrikeouts\":213.3,\"PitchingHomeRuns\":37.9,\"PitchesThrown\":3628.8,\"PitchesThrownStrikes\":2275.9,\n",
        "# \"WalksHitsPerInningsPitched\":0.2,\"PitchingBattingAverageAgainst\":0.0,\"GrandSlams\":0.0,\"FantasyPointsFanDuel\":1988.3,\"FantasyPointsDraftKings\":1510.4,\n",
        "# \"FantasyPointsYahoo\":1276.2,\"PlateAppearances\":910.5,\"TotalBases\":317.9,\"FlyOuts\":0.0,\"GroundOuts\":173.8,\"LineOuts\":55.4,\"PopOuts\":37.9,\"IntentionalWalks\":0.8,\n",
        "# \"ReachedOnError\":3.3,\"BallsInPlay\":610.9,\"BattingAverageOnBallsInPlay\":0.0,\"WeightedOnBasePercentage\":0.1,\"PitchingSingles\":115.6,\"PitchingDoubles\":48.0,\n",
        "# \"PitchingTriples\":1.8,\"PitchingGrandSlams\":0.2,\"PitchingHitByPitch\":3.8,\"PitchingSacrifices\":0.5,\"PitchingSacrificeFlies\":2.2,\"PitchingGroundIntoDoublePlay\":20.8,\n",
        "# \"PitchingCompleteGames\":0.0,\"PitchingShutOuts\":0.0,\"PitchingNoHitters\":0.0,\"PitchingPerfectGames\":0.0,\"PitchingPlateAppearances\":929.2,\"PitchingTotalBases\":376.5,\n",
        "# \"PitchingFlyOuts\":107.4,\"PitchingGroundOuts\":131.1,\"PitchingLineOuts\":55.4,\"PitchingPopOuts\":34.6,\"PitchingIntentionalWalks\":3.3,\"PitchingReachedOnError\":10.2,\n",
        "# \"PitchingCatchersInterference\":0.2,\"PitchingBallsInPlay\":571.4,\"PitchingOnBasePercentage\":0.1,\"PitchingSluggingPercentage\":0.1,\"PitchingOnBasePlusSlugging\":0.1,\n",
        "# \"PitchingStrikeoutsPerNineInnings\":1.5,\"PitchingWalksPerNineInnings\":0.7,\"PitchingBattingAverageOnBallsInPlay\":0.0,\"PitchingWeightedOnBasePercentage\":0.1,\n",
        "# \"DoublePlays\":16.3,\"PitchingDoublePlays\":21.6,\"BattingOrderConfirmed\":true,\"IsolatedPower\":0.0,\"FieldingIndependentPitching\":0.8,\"PitchingQualityStarts\":2.2,\n",
        "# \"PitchingInningStarted\":null,\"LeftOnBase\":313.0,\"PitchingHolds\":3.1,\"PitchingBlownSaves\":1.5,\"SubstituteBattingOrder\":null,\"SubstituteBattingOrderSequence\":null,\n",
        "# \"FantasyPointsFantasyDraft\":1504.7}"
      ],
      "execution_count": null,
      "outputs": []
    },
    {
      "cell_type": "markdown",
      "metadata": {
        "id": "b-qdGAW0JNxX"
      },
      "source": [
        "The important data was then taken out of each instance and written to a CSV file. \n",
        "\n",
        "This includes:\n",
        "1. Runs scored in a game\n",
        "2. Combined OBP of both teams\n",
        "3. Combined ERA of the pitchers on both teams\n",
        "4. Temperature\n",
        "5. Wind Speed\n",
        "\n",
        "This was done using 4 different functions described below:\n",
        "\n",
        "*Note these will not run in this notebook. I wrote and ran these in Microsoft VScode. The size of the JSON files prevents them from being imported to this notebook.*"
      ]
    },
    {
      "cell_type": "code",
      "metadata": {
        "id": "Fx9UOog0J1zU"
      },
      "source": [
        "# takes a JSON file name and a dictionary of strings (created in getPitcherDict)\n",
        "# extracts the valuable information from each game instance\n",
        "# returns a list of lists, each game becoming a list of data\n",
        "def getCSVdata(fileName, players, teams_dict):\n",
        "    output = []\n",
        "    file = open(fileName, 'r')\n",
        "    teams = file.read().split('}')\n",
        "    teams.pop(len(teams) - 1)\n",
        "    for team in teams:\n",
        "        team_data = []\n",
        "        team_list = team.split(',')\n",
        "        for data in team_list:\n",
        "            data_split = data.split(':')\n",
        "            if '\"AwayTeam\"' == data_split[0]:\n",
        "                team_data.append(float(teams_dict[data_split[1][1:-1]]))\n",
        "            elif '\"HomeTeam\"' == data_split[0]:\n",
        "                team_data[0] += float(teams_dict[data_split[1][1:-1]])\n",
        "                team_data[0] = \"{:.3f}\".format(team_data[0])\n",
        "            elif '\"AwayTeamRuns\"' == data_split[0]:\n",
        "                if data_split[1] == 'null':\n",
        "                    continue\n",
        "                team_data.append(int(data_split[1]))\n",
        "            elif '\"HomeTeamRuns\"' == data_split[0]:\n",
        "                if data_split[1] == 'null':\n",
        "                    continue\n",
        "                team_data[1] += (int(data_split[1]))\n",
        "                team_data[1] = str(team_data[1])\n",
        "                temp = team_data[1]\n",
        "                team_data[1] = team_data[0]\n",
        "                team_data[0] = temp\n",
        "            elif '\"AwayTeamStartingPitcherID\"' == data_split[0]:\n",
        "                if data_split[1] == 'null':\n",
        "                    continue\n",
        "                if data_split[1] in players:\n",
        "                    team_data.append(float(players[data_split[1]]))\n",
        "            elif '\"HomeTeamStartingPitcherID\"' == data_split[0]:\n",
        "                if data_split[1] == 'null':\n",
        "                    continue\n",
        "                if data_split[1] in players and len(team_data) > 2:\n",
        "                    team_data[2] += float(players[data_split[1]])\n",
        "                    team_data[2] = \"{:.1f}\".format(team_data[2])\n",
        "            elif '\"ForecastTempHigh\"' == data_split[0]:\n",
        "                if data_split[1] == 'null':\n",
        "                    continue\n",
        "                team_data.append((data_split[1]))\n",
        "            elif '\"ForecastWindSpeed\"' == data_split[0]:\n",
        "                if data_split[1] == 'null':\n",
        "                    continue\n",
        "                team_data.append((data_split[1]))\n",
        "        \n",
        "        num_points = 5\n",
        "        if len(team_data) == num_points:\n",
        "            output.append(team_data)\n",
        "\n",
        "    return output\n",
        "\n",
        "# returns a dictionary of all the pitchers and their corresponding player IDs\n",
        "# this is used to find the ERA of a pitcher from a game instance\n",
        "def getPitcherDict(fileName):\n",
        "    output = []\n",
        "    file = open(fileName, 'r')\n",
        "    teams = file.read().split('}')\n",
        "    teams.pop(len(teams) - 1)\n",
        "    for team in teams:\n",
        "        team_data = []\n",
        "        team_list = team.split(',')\n",
        "        for data in team_list:\n",
        "            data_split = data.split(':')\n",
        "            if '\"PlayerID\"' == data_split[0]:\n",
        "                team_data.append(data_split[1])\n",
        "            elif '\"EarnedRunAverage\"' == data_split[0]:\n",
        "                if data_split[1] != '0.0':\n",
        "                    team_data.append(data_split[1])\n",
        "        \n",
        "        num_points = 2\n",
        "        if len(team_data) == num_points:\n",
        "            output.append(team_data)\n",
        "    \n",
        "    output_dict = {}\n",
        "    for player in output:\n",
        "        output_dict[player[0]] = player[1]\n",
        "\n",
        "    return output_dict\n",
        "\n",
        "# returns a dictionary of all the teams and their corresponding OBPs\n",
        "def getTeamsDict(fileName):\n",
        "    output = []\n",
        "    file = open(fileName, 'r')\n",
        "    teams = file.read().split('}')\n",
        "    teams.pop(len(teams) - 1)\n",
        "    for team in teams:\n",
        "        team_data = []\n",
        "        team_list = team.split(',')\n",
        "        for data in team_list:\n",
        "            data_split = data.split(':')\n",
        "            if '\"Team\"' == data_split[0]:\n",
        "                team_data.append(data_split[1][1:-1])\n",
        "            elif '\"AtBats\"' == data_split[0]:\n",
        "                team_data.append(data_split[1])\n",
        "            elif '\"Hits\"' == data_split[0]:\n",
        "                team_data.append(data_split[1])\n",
        "            elif '\"Walks\"' == data_split[0]:\n",
        "                team_data.append(data_split[1])\n",
        "        \n",
        "        num_points = 4\n",
        "        if len(team_data) == num_points:\n",
        "            output.append(team_data)\n",
        "    \n",
        "    output_dict = {}\n",
        "    for team in output:\n",
        "        output_dict[team[0]] = \"{:.3f}\".format((float(team[2]) + float(team[3])) / float(team[1]))\n",
        "\n",
        "    return output_dict\n",
        "\n",
        "# takes a list of lists and writes it into a csv file\n",
        "# each list is a line in the csv file\n",
        "def writeCSV(to_write):\n",
        "    f = open('2021_stats.csv', 'w')\n",
        "    f.write('Runs, OBP, ERA, Temperature, Wind\\n')\n",
        "    for data in to_write:\n",
        "        for i in range(len(data)):\n",
        "            if i != len(data) - 1:\n",
        "                f.write(str(data[i]) + ',')\n",
        "            else:\n",
        "                f.write(str(data[i]) + '\\n')\n",
        "    f.close()\n",
        "\n",
        "# DO NOT run these functions"
      ],
      "execution_count": null,
      "outputs": []
    },
    {
      "cell_type": "markdown",
      "metadata": {
        "id": "5O6yzcgXMgXa"
      },
      "source": [
        "Additionally, the getCSVdata function runs so that no rows in the CSV file written in writeCSV have any empty data, eliminating that concern."
      ]
    },
    {
      "cell_type": "markdown",
      "metadata": {
        "id": "AVqckiHyDUkD"
      },
      "source": [
        "# Data Analysis\n",
        "\n",
        "### Regression\n",
        "\n",
        "The data analysis technique I will be using is linear regression. I chose this analysis it is one of the best and most effiecient ways to find the correlation between two datasets, which works well for my purposes.\n",
        "- Linear regression is essentially the process of modeling data points as the equation of a line.\n",
        "- I will plot each of the features against Runs Scored and use linear regression to find the best fit line.\n",
        "\n",
        "### Pearson Coefficient\n",
        "\n",
        "Specifically, I will use the linear regression technique to find the squared Pearson correlation coefficient. \n",
        "- This gives me the strength of relationship between two datasets, from comparing the number of runs dataset to every other dataset in the data. \n",
        "- This Pearson coefficient ranges from 0 to 1 and acts as a percentage of variation explained by the relationship between two variables.\n",
        "\n",
        "The equation for the Pearson Coefficient is as follows:\n",
        "- (SST - SSE) / SST\n",
        "- SSE is the residuals used in the linear regression process.\n",
        "- SST is the total variation between the average y and each point.\n",
        "\n",
        "### Goals\n",
        "\n",
        "1. I can use the coefficients to find which feature effects number of runs scored the most.\n",
        "\n",
        "2. Using the training on 2020 MLB data to find the correlation coeffiecients, I will test my model on 2021 MLB data by making predictions of runs scored using the given features and score its performance. \n",
        "\n",
        "*The training does not require a significant amount of time so it will be included in the notebook.*"
      ]
    },
    {
      "cell_type": "code",
      "metadata": {
        "id": "J6WY6WKPcLNL"
      },
      "source": [
        "import numpy as np\n",
        "\n",
        "# returns a dictionary of feature names mapped to their r2 values\n",
        "def get_r2(df):\n",
        "  r2_values = {}\n",
        "  cols = list(df.columns.values)[1:]\n",
        "  x = df.loc[:,'Runs'].values\n",
        "\n",
        "  for col in cols:\n",
        "    y = df.loc[:,col].values\n",
        "    \n",
        "    n = np.size(x)\n",
        "    dx = (n * np.sum(x * y) - np.sum(x) * np.sum(y))\n",
        "    dy = (n * np.sum(np.square(x)) - np.sum(x) * np.sum(x))\n",
        "    slope = dx / dy\n",
        "    y0 = np.mean(y) - slope * np.mean(x)\n",
        "    predicted = x * slope + y0\n",
        "\n",
        "    SSE = np.sum(np.square(y - predicted))\n",
        "    SST = np.sum(np.square(y - np.mean(y)))\n",
        "    r2 = (SST - SSE) / SST\n",
        "\n",
        "    r2_values[col] = r2\n",
        "  \n",
        "  return r2_values"
      ],
      "execution_count": null,
      "outputs": []
    },
    {
      "cell_type": "code",
      "metadata": {
        "colab": {
          "base_uri": "https://localhost:8080/"
        },
        "id": "kcfhDwLvSeHZ",
        "outputId": "a365ad72-617b-4009-8a8f-26d8661749a0"
      },
      "source": [
        "# test the precision of using the r2 values to predict runs scored\n",
        "# returns a dictionary that shows the accuracy of the model and an accuracy score\n",
        "def test_r2(df, r2_dict):\n",
        "  runs = df.loc[:,'Runs'].values\n",
        "  runs_predicted = []\n",
        "\n",
        "  # get a list of each features percent of the total r2\n",
        "  r2_value_percentages = []\n",
        "  total = 0\n",
        "  for key in r2_dict:\n",
        "    total += r2_dict[key]\n",
        "  for key in r2_dict:\n",
        "    r2_value_percentages.append(r2_dict[key] / total)\n",
        "  \n",
        "  for i in df.index:\n",
        "    prediction = 0\n",
        "    prediction += r2_value_percentages[0] * df[' OBP'][i]\n",
        "    prediction += r2_value_percentages[1] * df[' ERA'][i]\n",
        "    prediction += r2_value_percentages[2] * df[' Temperature'][i]\n",
        "    prediction += r2_value_percentages[3] * df[' Wind'][i]\n",
        "    runs_predicted.append(int(prediction.round()))\n",
        "  runs_predicted = np.asarray(runs_predicted)\n",
        "\n",
        "  accuracy = {'Correct':0, 'Within 1 Run':0, 'Within 2 Runs':0,\n",
        "              'Within 3 Runs':0, '4 or Greater':0}\n",
        "  for i in range(len(runs)):\n",
        "    if abs(runs[i] - runs_predicted[i]) == 0:\n",
        "      accuracy['Correct'] += 1\n",
        "    elif abs(runs[i] - runs_predicted[i]) == 1:\n",
        "      accuracy['Within 1 Run'] += 1\n",
        "    elif abs(runs[i] - runs_predicted[i]) == 2:\n",
        "      accuracy['Within 2 Runs'] += 1\n",
        "    elif abs(runs[i] - runs_predicted[i]) == 3:\n",
        "      accuracy['Within 3 Runs'] += 1\n",
        "    else:\n",
        "      accuracy['4 or Greater'] += 1\n",
        "\n",
        "  accuracy_score_values = {'Correct':1, 'Within 1 Run':0.75, 'Within 2 Runs':0.5,\n",
        "              'Within 3 Runs':0.25, '4 or Greater':0}\n",
        "  accuracy_score = (accuracy_score_values['Correct'] * accuracy['Correct'] + \n",
        "                    accuracy_score_values['Within 1 Run'] * accuracy['Within 1 Run'] + \n",
        "                    accuracy_score_values['Within 2 Runs'] * accuracy['Within 2 Runs'] + \n",
        "                    accuracy_score_values['Within 3 Runs'] * accuracy['Within 3 Runs']) / len(runs)\n",
        "\n",
        "  return accuracy, accuracy_score\n",
        "\n",
        "# return list of features sorted from most to least important\n",
        "def correlation_order(r2_dict):\n",
        "  values_sorted = sorted(r2_dict.values(), reverse=True)\n",
        "  keys_sorted = []\n",
        "\n",
        "  for value in values_sorted:\n",
        "    for key in r2_dict.keys():\n",
        "      if r2_dict[key] == value:\n",
        "        keys_sorted.append(key)\n",
        "        break\n",
        "  \n",
        "  return keys_sorted\n",
        "\n",
        "# outputs the results of the testing and training\n",
        "def output_results():\n",
        "  df_training = get_training_df()\n",
        "  df_testing = get_testing_df()\n",
        "\n",
        "  r2_values = get_r2(df_training[:550])\n",
        "  keys_sorted = correlation_order(r2_values)\n",
        "  accuracy, accuracy_score = test_r2(df_testing, r2_values)\n",
        "\n",
        "  print(\"Pearson Coefficients (As percentages out of 100):\")\n",
        "  for key in keys_sorted:\n",
        "    print(\"{0}: {1:.4f}%\".format(key, r2_values[key] * 100))\n",
        "\n",
        "  print()\n",
        "  print(\"Accuracy of Model Predictions:\")\n",
        "  for key in accuracy:\n",
        "    print(\" {0}: {1}\".format(key, accuracy[key]))\n",
        "\n",
        "  print()\n",
        "  print(\"Accuracy Score (As percentage out of 100):\")\n",
        "  print(\" {:.4f}%\".format(accuracy_score * 100))\n",
        "\n",
        "output_results()"
      ],
      "execution_count": null,
      "outputs": [
        {
          "output_type": "stream",
          "text": [
            "Pearson Coefficients (As percentages out of 100):\n",
            " ERA: 8.4838%\n",
            " OBP: 0.2266%\n",
            " Temperature: 0.0934%\n",
            " Wind: 0.0023%\n",
            "\n",
            "Accuracy of Model Predictions:\n",
            " Correct: 47\n",
            " Within 1 Run: 104\n",
            " Within 2 Runs: 71\n",
            " Within 3 Runs: 55\n",
            " 4 or Greater: 107\n",
            "\n",
            "Accuracy Score (As percentage out of 100):\n",
            " 45.3776%\n"
          ],
          "name": "stdout"
        }
      ]
    },
    {
      "cell_type": "markdown",
      "metadata": {
        "id": "QHgmmT2XDXSu"
      },
      "source": [
        "# Conclusion"
      ]
    },
    {
      "cell_type": "markdown",
      "metadata": {
        "id": "Tf_wIyRvnkve"
      },
      "source": [
        "If the cells above are run correctly, the output look like:\n",
        "\n",
        "### Pearson Coefficients (As percentages out of 100):\n",
        " - ERA: 8.4838%\n",
        " - OBP: 0.2266%\n",
        " - Temperature: 0.0934%\n",
        " - Wind: 0.0023%\n",
        "\n",
        "### Accuracy of Model Predictions:\n",
        " - Correct: 47\n",
        " - Within 1 Run: 104\n",
        " - Within 2 Runs: 71\n",
        " - Within 3 Runs: 55\n",
        " - 4 or Greater: 107\n",
        "\n",
        "### Accuracy Score (As percentage out of 100):\n",
        " - 45.3776%"
      ]
    },
    {
      "cell_type": "markdown",
      "metadata": {
        "id": "jJBo8Z6Htxg-"
      },
      "source": [
        "### My analysis of this data has led me to these conclusions:\n",
        "1. Earned Run Average was the only data point that had a significant effect on the number of runs scored.\n",
        "2. Pitching is much more important than batting when it comes to runs scored, as OBP is a very accurate representation of a team's batting strength yet did not have a large effect on the runs.\n",
        "3. Wind and temperature are almost irrelevant, as the number of runs seems to remain consistant in all conditions.\n",
        "\n",
        "### In addition to this, my model was modest in its prediction strength\n",
        "1. It predicted about 12% of the games exactly correct.\n",
        "2. About 72% of predicted games were within 3 runs of their actual result.\n",
        "3. I created the accuracy score myself, so its weight is up for interpretation to the user."
      ]
    },
    {
      "cell_type": "markdown",
      "metadata": {
        "id": "8yEpHKniuA4I"
      },
      "source": [
        "Overall, my experience with this project was great and I learned a lot about data analysis techniques. I hope you did as well.\n",
        "\n",
        "### Thanks!"
      ]
    },
    {
      "cell_type": "markdown",
      "metadata": {
        "id": "hv41ElVE5d0K"
      },
      "source": [
        "\n",
        "---\n",
        "# Submission Guidelines (keep this section here)\n",
        "---\n",
        "\n",
        "\n",
        "When you are ready to submit your project, part of the submission process will be to register your notebook for reviewing.  \n",
        "\n",
        "You will also receive the links and instructions to do the peer reviews.\n",
        "\n",
        "Please review the metadata:"
      ]
    },
    {
      "cell_type": "code",
      "metadata": {
        "id": "VOUCKYCWBZDp"
      },
      "source": [
        "def get_metadata():\n",
        "  meta = {\n",
        "          \"title\": PROJECT_TITLE, # keep this as is\n",
        "          \"nb_id\": NOTEBOOK_ID,   # keep this as is\n",
        "\n",
        "          \"data\" : [\"https://drive.google.com/uc?export=download&id=1HhBn-Ir3M4sRYBiebGHxVtIHWbLK3VfZ\", \n",
        "                    \"https://drive.google.com/uc?export=download&id=1EWhiGKImrr2HQREVi6UzZDpaJg8wZEsZ\"],\n",
        "\n",
        "          # permissions\n",
        "          # do you give the instructor the permission to copy this project\n",
        "          # and allow others to view it in the class gallery?\n",
        "          \"allow_gallery\": True,\n",
        "          \n",
        "          # if your project is made viewable to others,\n",
        "          # do you want to include your name (first/last)?\n",
        "          \"allow_name_release\": True\n",
        "          }\n",
        "  return meta"
      ],
      "execution_count": null,
      "outputs": []
    },
    {
      "cell_type": "markdown",
      "metadata": {
        "id": "-_C-G52O29MM"
      },
      "source": [
        "Specific instructions will come for what to submit for the various milestones.\n",
        "\n",
        "If necessary, you can download the Python version of this notebook by using the `File->Download .py` as well as the notebook itself `File->Download .ipynb`.\n",
        "\n"
      ]
    }
  ]
}